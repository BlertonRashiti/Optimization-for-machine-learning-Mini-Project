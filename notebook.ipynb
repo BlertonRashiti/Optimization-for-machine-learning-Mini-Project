{
 "cells": [
  {
   "cell_type": "code",
   "execution_count": 1,
   "metadata": {
    "cell_id": "fde106e86aff44dcab224e8121896217",
    "deepnote_cell_height": 406.375,
    "deepnote_cell_type": "code",
    "deepnote_to_be_reexecuted": false,
    "execution_millis": 7462,
    "execution_start": 1655049174500,
    "source_hash": "452715b1",
    "tags": []
   },
   "outputs": [],
   "source": [
    "import math\n",
    "import numpy as np\n",
    "import copy\n",
    "import matplotlib.pyplot as plt\n",
    "\n",
    "# To load the data\n",
    "import torchvision\n",
    "from torchvision.datasets import MNIST\n",
    "from torchvision.transforms import ToTensor\n",
    "\n",
    "# To define the model\n",
    "import torch\n",
    "import torch.nn as nn\n",
    "import torch.nn.functional as F\n",
    "import torch.optim as optim\n",
    "from torch.utils.data import DataLoader"
   ]
  },
  {
   "cell_type": "code",
   "execution_count": 2,
   "metadata": {},
   "outputs": [],
   "source": [
    "import os\n",
    "os.environ[\"KMP_DUPLICATE_LIB_OK\"]=\"TRUE\""
   ]
  },
  {
   "cell_type": "markdown",
   "metadata": {
    "cell_id": "a5c70b656922448ba05b6053e63a0dcc",
    "deepnote_cell_type": "text-cell-h1",
    "formattedRanges": [],
    "is_collapsed": false,
    "tags": []
   },
   "source": [
    "# Load the data"
   ]
  },
  {
   "cell_type": "code",
   "execution_count": 3,
   "metadata": {
    "cell_id": "6eadbaad055d4ea8962b5da4b93268e7",
    "deepnote_cell_height": 279,
    "deepnote_cell_type": "code",
    "deepnote_to_be_reexecuted": false,
    "execution_millis": 29,
    "execution_start": 1655049181992,
    "source_hash": "358b7840",
    "tags": []
   },
   "outputs": [],
   "source": [
    "TRAIN_SIZE = 1500\n",
    "VALID_SIZE = 250\n",
    "TEST_SIZE = 250\n",
    "\n",
    "BATCH_SIZE = 125\n",
    "\n",
    "EPOCHS_MAX = 10\n",
    "\n",
    "NUM_FEATURES = 28*28\n",
    "NUM_CLASSES = 10\n",
    "\n",
    "RANDOM_SEED = 1"
   ]
  },
  {
   "cell_type": "code",
   "execution_count": 4,
   "metadata": {
    "cell_id": "97de7534b93e48ff839b9b2da23ab033",
    "deepnote_cell_height": 99,
    "deepnote_cell_type": "code",
    "deepnote_to_be_reexecuted": false,
    "execution_millis": 402,
    "execution_start": 1655049182048,
    "source_hash": "78a7336b",
    "tags": []
   },
   "outputs": [],
   "source": [
    "dataset_train = MNIST('data', train=True, download=True, transform=ToTensor())\n",
    "dataset_test = MNIST('data', train=False, download=True, transform=ToTensor())"
   ]
  },
  {
   "cell_type": "code",
   "execution_count": 5,
   "metadata": {
    "cell_id": "97787a26a23f484aa598a0cfba22935f",
    "deepnote_cell_height": 189,
    "deepnote_cell_type": "code",
    "deepnote_to_be_reexecuted": false,
    "execution_millis": 14,
    "execution_start": 1655049184467,
    "source_hash": "411d6f09",
    "tags": []
   },
   "outputs": [],
   "source": [
    "dataset_training = torch.utils.data.Subset(dataset_train, range(0, TRAIN_SIZE))\n",
    "#dataset_validating = torch.utils.data.Subset(dataset_test, range(0, VALID_SIZE))\n",
    "dataset_testing = torch.utils.data.Subset(dataset_test, range(VALID_SIZE, VALID_SIZE + TEST_SIZE))\n",
    "\n",
    "dataloader_train = DataLoader(dataset_training, batch_size=BATCH_SIZE, shuffle=True)\n",
    "#dataloader_valid = DataLoader(dataset_validating, batch_size=BATCH_SIZE, shuffle=False)\n",
    "dataloader_test = DataLoader(dataset_testing, batch_size=BATCH_SIZE, shuffle=False)"
   ]
  },
  {
   "cell_type": "markdown",
   "metadata": {
    "cell_id": "0af96f0e9fb64b548d91fb1c7ee3eed9",
    "deepnote_cell_type": "text-cell-h1",
    "formattedRanges": [],
    "is_collapsed": false,
    "tags": []
   },
   "source": [
    "# Define the model"
   ]
  },
  {
   "cell_type": "code",
   "execution_count": 6,
   "metadata": {
    "cell_id": "eaa3f1c8bc2b41eebaf9daa8b5ebe42b",
    "deepnote_cell_height": 2025,
    "deepnote_cell_type": "code",
    "deepnote_to_be_reexecuted": false,
    "execution_millis": 241,
    "execution_start": 1655049184524,
    "source_hash": "67054bef",
    "tags": []
   },
   "outputs": [],
   "source": [
    "# RESNET-18\n",
    "\n",
    "def conv3x3(in_planes, out_planes, stride=1):\n",
    "    return nn.Conv2d(in_planes, out_planes, kernel_size=3, stride=stride, padding=1, bias=False)\n",
    "\n",
    "class BasicBlock(nn.Module):\n",
    "    \n",
    "    expansion = 1\n",
    "\n",
    "    def __init__(self, inplanes, planes, stride=1, downsample=None):\n",
    "        \n",
    "        super(BasicBlock, self).__init__()\n",
    "        \n",
    "        self.conv1 = conv3x3(inplanes, planes, stride)\n",
    "        self.bn1 = nn.BatchNorm2d(planes)\n",
    "        self.relu = nn.ReLU(inplace=True)\n",
    "        self.conv2 = conv3x3(planes, planes)\n",
    "        self.bn2 = nn.BatchNorm2d(planes)\n",
    "        self.downsample = downsample\n",
    "        self.stride = stride\n",
    "\n",
    "    def forward(self, x):\n",
    "        \n",
    "        residual = x\n",
    "\n",
    "        out = self.conv1(x)\n",
    "        out = self.bn1(out)\n",
    "        out = self.relu(out)\n",
    "\n",
    "        out = self.conv2(out)\n",
    "        out = self.bn2(out)\n",
    "\n",
    "        if self.downsample is not None:\n",
    "            residual = self.downsample(x)\n",
    "\n",
    "        out += residual\n",
    "        out = self.relu(out)\n",
    "\n",
    "        return out\n",
    "\n",
    "class ResNet(nn.Module):\n",
    "\n",
    "    def __init__(self, block, layers, num_classes):\n",
    "        \n",
    "        self.inplanes = 64\n",
    "        in_dim = 1\n",
    "        \n",
    "        super(ResNet, self).__init__()\n",
    "        \n",
    "        self.conv1 = nn.Conv2d(in_dim, 64, kernel_size=7, stride=2, padding=3, bias=False)\n",
    "        self.bn1 = nn.BatchNorm2d(64)\n",
    "        self.relu = nn.ReLU(inplace=True)\n",
    "        self.maxpool = nn.MaxPool2d(kernel_size=3, stride=2, padding=1)\n",
    "        self.layer1 = self._make_layer(block, 64, layers[0])\n",
    "        self.layer2 = self._make_layer(block, 128, layers[1], stride=2)\n",
    "        self.layer3 = self._make_layer(block, 256, layers[2], stride=2)\n",
    "        self.layer4 = self._make_layer(block, 512, layers[3], stride=2)\n",
    "        self.avgpool = nn.AvgPool2d(7, stride=1)\n",
    "        self.fc = nn.Linear(512 * block.expansion, num_classes)\n",
    "\n",
    "        for m in self.modules():\n",
    "            if isinstance(m, nn.Conv2d):\n",
    "                n = m.kernel_size[0] * m.kernel_size[1] * m.out_channels\n",
    "                m.weight.data.normal_(0, (2. / n)**.5)\n",
    "            elif isinstance(m, nn.BatchNorm2d):\n",
    "                m.weight.data.fill_(1)\n",
    "                m.bias.data.zero_()\n",
    "\n",
    "    def _make_layer(self, block, planes, blocks, stride=1):\n",
    "        \n",
    "        downsample = None\n",
    "        \n",
    "        if stride != 1 or self.inplanes != planes * block.expansion:\n",
    "            downsample = nn.Sequential(\n",
    "                nn.Conv2d(self.inplanes, planes * block.expansion, kernel_size=1, stride=stride, bias=False),\n",
    "                nn.BatchNorm2d(planes * block.expansion),\n",
    "            )\n",
    "\n",
    "        layers = []\n",
    "        layers.append(block(self.inplanes, planes, stride, downsample))\n",
    "        self.inplanes = planes * block.expansion\n",
    "        \n",
    "        for i in range(1, blocks):\n",
    "            layers.append(block(self.inplanes, planes))\n",
    "\n",
    "        return nn.Sequential(*layers)\n",
    "\n",
    "    def forward(self, x):\n",
    "        \n",
    "        x = self.conv1(x)\n",
    "        x = self.bn1(x)\n",
    "        x = self.relu(x)\n",
    "        x = self.maxpool(x)\n",
    "\n",
    "        x = self.layer1(x)\n",
    "        x = self.layer2(x)\n",
    "        x = self.layer3(x)\n",
    "        x = self.layer4(x)\n",
    "        \n",
    "        x = x.view(x.size(0), -1)\n",
    "        logits = self.fc(x)\n",
    "        probas = F.softmax(logits, dim=1)\n",
    "        \n",
    "        return logits, probas\n",
    "\n",
    "def resnet18(num_classes):\n",
    "    \"\"\"Constructs a ResNet-18 model.\"\"\"\n",
    "    model = ResNet(block=BasicBlock, layers=[2, 2, 2, 2], num_classes=num_classes)\n",
    "    return model"
   ]
  },
  {
   "cell_type": "code",
   "execution_count": 7,
   "metadata": {
    "cell_id": "ba45c47d94b04ef0bac8b39bbd61d0c0",
    "deepnote_cell_height": 297,
    "deepnote_cell_type": "code",
    "deepnote_to_be_reexecuted": false,
    "execution_millis": 18,
    "execution_start": 1655049184781,
    "source_hash": "2003d04e",
    "tags": []
   },
   "outputs": [],
   "source": [
    "def compute_accuracy(model, data_loader):\n",
    "    \n",
    "    correct_pred = 0\n",
    "    num_examples = 0\n",
    "    \n",
    "    for i, (features, targets) in enumerate(data_loader):\n",
    "\n",
    "        logits, probas = model(features)\n",
    "        _, predicted_labels = torch.max(probas, 1)\n",
    "        num_examples += targets.size(0)\n",
    "        correct_pred += (predicted_labels == targets).sum()\n",
    "        \n",
    "    return correct_pred.float() / num_examples * 100"
   ]
  },
  {
   "cell_type": "code",
   "execution_count": 8,
   "metadata": {
    "cell_id": "8ed230381c374acdb4cb5250fc534929",
    "deepnote_cell_height": 99,
    "deepnote_cell_type": "code",
    "deepnote_output_heights": [
     611
    ],
    "deepnote_to_be_reexecuted": false,
    "execution_millis": 561,
    "execution_start": 1655049184812,
    "source_hash": "5e3d777a",
    "tags": []
   },
   "outputs": [],
   "source": [
    "torch.manual_seed(RANDOM_SEED)\n",
    "model = resnet18(NUM_CLASSES)"
   ]
  },
  {
   "cell_type": "markdown",
   "metadata": {
    "cell_id": "3407380b47394b7e9d50ca6125f28ec4",
    "deepnote_cell_type": "text-cell-h3",
    "formattedRanges": [],
    "is_collapsed": false,
    "tags": []
   },
   "source": [
    "### Define the loss function"
   ]
  },
  {
   "cell_type": "code",
   "execution_count": 9,
   "metadata": {
    "cell_id": "4ad303d736174ba9b6eef825e4edad10",
    "deepnote_cell_height": 81,
    "deepnote_cell_type": "code",
    "deepnote_to_be_reexecuted": false,
    "execution_millis": 17,
    "execution_start": 1655049185391,
    "source_hash": "fd30af43",
    "tags": []
   },
   "outputs": [],
   "source": [
    "criterion = nn.CrossEntropyLoss()"
   ]
  },
  {
   "cell_type": "markdown",
   "metadata": {
    "cell_id": "43587da0359f48e5b391665bac6bd9eb",
    "deepnote_cell_type": "text-cell-h3",
    "formattedRanges": [],
    "is_collapsed": false,
    "tags": []
   },
   "source": [
    "### Define the optimizer"
   ]
  },
  {
   "cell_type": "code",
   "execution_count": 10,
   "metadata": {
    "cell_id": "3beeb1d01a4842aaa8bc6eaf60f03505",
    "deepnote_cell_height": 369,
    "deepnote_cell_type": "code",
    "deepnote_to_be_reexecuted": false,
    "execution_millis": 45,
    "execution_start": 1655049185430,
    "source_hash": "da8a0bb0",
    "tags": []
   },
   "outputs": [],
   "source": [
    "class signSGD(optim.Optimizer):\n",
    "\n",
    "    def __init__(self, params, lr=0.0001):\n",
    "\n",
    "        defaults = dict(lr=lr)\n",
    "        super(signSGD, self).__init__(params, defaults)\n",
    "\n",
    "    def step(self):\n",
    "\n",
    "        for group in self.param_groups:\n",
    "\n",
    "            for p in group['params']:\n",
    "\n",
    "                if p.grad is None:\n",
    "                    continue\n",
    "\n",
    "                p.data -= group['lr'] * torch.sign(p.grad)"
   ]
  },
  {
   "cell_type": "code",
   "execution_count": 11,
   "metadata": {
    "cell_id": "e3d53202da5a49ae9c6462c7f157e7e9",
    "deepnote_cell_height": 567,
    "deepnote_cell_type": "code",
    "deepnote_to_be_reexecuted": false,
    "execution_millis": 24,
    "execution_start": 1655049185504,
    "source_hash": "374b7e17",
    "tags": []
   },
   "outputs": [],
   "source": [
    "class signumSGD(optim.Optimizer):\n",
    "\n",
    "    def __init__(self, params, lr=0.0001, beta=0.9):\n",
    "        \n",
    "        defaults = dict(lr=lr)\n",
    "        self.beta = beta\n",
    "        self.momentum = None\n",
    "        \n",
    "        super(signumSGD, self).__init__(params, defaults)\n",
    "\n",
    "    def step(self):\n",
    "\n",
    "        if self.momentum == None:\n",
    "            self.momentum = [None for group in self.param_groups]\n",
    "\n",
    "        for i, group in enumerate(self.param_groups):\n",
    "            \n",
    "            if self.momentum[i] == None:\n",
    "                self.momentum[i] = [torch.zeros(p.size()) for p in group[\"params\"]]\n",
    "            \n",
    "            for j, p in enumerate(group['params']):\n",
    "                \n",
    "                if p.grad is None:\n",
    "                    continue\n",
    "\n",
    "                self.momentum[i][j] = self.beta * self.momentum[i][j] + (1 - self.beta) * p.grad\n",
    "                \n",
    "                p.data -= group['lr'] * torch.sign(self.momentum[i][j])"
   ]
  },
  {
   "cell_type": "markdown",
   "metadata": {
    "cell_id": "dfb6fd6de23f4c74941a5b95470185e0",
    "deepnote_cell_type": "text-cell-h1",
    "formattedRanges": [],
    "is_collapsed": false,
    "tags": []
   },
   "source": [
    "# Train the models"
   ]
  },
  {
   "cell_type": "code",
   "execution_count": 12,
   "metadata": {
    "cell_id": "825f1d362a794a3eb8021e6f356090f8",
    "deepnote_cell_height": 693,
    "deepnote_cell_type": "code",
    "deepnote_to_be_reexecuted": false,
    "execution_millis": 17,
    "execution_start": 1655049185567,
    "source_hash": "1aad07c8",
    "tags": []
   },
   "outputs": [],
   "source": [
    "def train_model(model, criterion, optimizer, dataloader_train, dataloader_test, epochs):\n",
    "    \n",
    "    losses = []\n",
    "    accs = []\n",
    "    \n",
    "    for ep in range(epochs):\n",
    "        \n",
    "        model.train()\n",
    "        \n",
    "        for it, batch in enumerate(dataloader_train):\n",
    "            \n",
    "            x, y = batch\n",
    "            \n",
    "            logits, probas = model.forward(x)\n",
    "            \n",
    "            loss = criterion(logits, y)\n",
    "            loss.backward()\n",
    "            \n",
    "            optimizer.step()\n",
    "            optimizer.zero_grad()\n",
    "\n",
    "        model.eval()\n",
    "        \n",
    "        with torch.no_grad():\n",
    "            \n",
    "            acc = compute_accuracy(model, dataloader_test)\n",
    "            \n",
    "        print(\"Epoch {}/{} | Loss = {:.2f} & Acc = {:.1f}\".format(ep+1, epochs, float(loss), acc))\n",
    "\n",
    "        losses.append(float(loss))\n",
    "        accs.append(acc)\n",
    "        \n",
    "    print(\"\")\n",
    "            \n",
    "    return losses, accs"
   ]
  },
  {
   "cell_type": "markdown",
   "metadata": {
    "cell_id": "a55b6bd7ec0049e5ae40ad0ebb89d538",
    "deepnote_cell_type": "text-cell-h3",
    "formattedRanges": [],
    "is_collapsed": false,
    "tags": []
   },
   "source": [
    "### SGD"
   ]
  },
  {
   "cell_type": "code",
   "execution_count": 13,
   "metadata": {
    "cell_id": "9184d072560b4ccbb7ca565ec0344946",
    "deepnote_cell_height": 258.375,
    "deepnote_cell_type": "code",
    "deepnote_to_be_reexecuted": false,
    "execution_millis": 151649,
    "execution_start": 1655049185593,
    "source_hash": "593416f",
    "tags": []
   },
   "outputs": [
    {
     "name": "stdout",
     "output_type": "stream",
     "text": [
      "Epoch 1/10 | Loss = 0.58 & Acc = 13.2\n",
      "Epoch 2/10 | Loss = 0.24 & Acc = 66.4\n",
      "Epoch 3/10 | Loss = 0.04 & Acc = 90.4\n",
      "Epoch 4/10 | Loss = 0.01 & Acc = 94.4\n",
      "Epoch 5/10 | Loss = 0.01 & Acc = 94.8\n",
      "Epoch 6/10 | Loss = 0.00 & Acc = 94.8\n",
      "Epoch 7/10 | Loss = 0.00 & Acc = 95.2\n",
      "Epoch 8/10 | Loss = 0.00 & Acc = 94.8\n",
      "Epoch 9/10 | Loss = 0.00 & Acc = 95.6\n",
      "Epoch 10/10 | Loss = 0.00 & Acc = 95.2\n",
      "\n"
     ]
    }
   ],
   "source": [
    "# Hyper-parameters\n",
    "lr = 0.1\n",
    "\n",
    "# Re-initialize the model and the optimizer parameters\n",
    "model_sgd = resnet18(NUM_CLASSES)\n",
    "optimizer_SGD = torch.optim.SGD(model_sgd.parameters(), lr)\n",
    "\n",
    "# Train the model on test set on the train and evaluate it on test set\n",
    "losses_SGD, accs_SGD = train_model(model_sgd, criterion, optimizer_SGD, dataloader_train, dataloader_test, EPOCHS_MAX)"
   ]
  },
  {
   "cell_type": "markdown",
   "metadata": {
    "cell_id": "b1a328b0ef8543cbbef3137b289f2a15",
    "deepnote_cell_type": "text-cell-h3",
    "formattedRanges": [],
    "is_collapsed": false,
    "tags": []
   },
   "source": [
    "### SGD with momentum"
   ]
  },
  {
   "cell_type": "code",
   "execution_count": 14,
   "metadata": {
    "cell_id": "4f2386eb145d495ea46069a1755eed07",
    "deepnote_cell_height": 274.1875,
    "deepnote_cell_type": "code",
    "deepnote_output_heights": [
     193.875
    ],
    "deepnote_to_be_reexecuted": true,
    "execution_millis": 380812,
    "execution_start": 1655027445522,
    "source_hash": "eeaba0cc",
    "tags": []
   },
   "outputs": [
    {
     "name": "stdout",
     "output_type": "stream",
     "text": [
      "Epoch 1/10 | Loss = 0.41 & Acc = 13.6\n",
      "Epoch 2/10 | Loss = 0.15 & Acc = 62.0\n",
      "Epoch 3/10 | Loss = 0.08 & Acc = 85.6\n",
      "Epoch 4/10 | Loss = 0.01 & Acc = 90.0\n",
      "Epoch 5/10 | Loss = 0.01 & Acc = 91.6\n",
      "Epoch 6/10 | Loss = 0.00 & Acc = 91.2\n",
      "Epoch 7/10 | Loss = 0.00 & Acc = 91.2\n",
      "Epoch 8/10 | Loss = 0.00 & Acc = 91.6\n",
      "Epoch 9/10 | Loss = 0.00 & Acc = 91.6\n",
      "Epoch 10/10 | Loss = 0.00 & Acc = 91.6\n",
      "\n"
     ]
    }
   ],
   "source": [
    "# Hyper-parameters\n",
    "lr = 0.01\n",
    "momentum=0.85\n",
    "\n",
    "# Re-initialize the model and the optimizer parameters\n",
    "model_SGD_momentum = resnet18(NUM_CLASSES)\n",
    "optimizer_SGD_momentum = torch.optim.SGD(model_SGD_momentum.parameters(), lr, momentum)\n",
    "\n",
    "# Train the model on test set on the train and evaluate it on test set\n",
    "losses_SGD_momentum, accs_SGD_momentum = train_model(model_SGD_momentum, criterion, optimizer_SGD_momentum, dataloader_train, dataloader_test, EPOCHS_MAX)"
   ]
  },
  {
   "cell_type": "markdown",
   "metadata": {
    "cell_id": "7bf6fcecfb7f4e1281df25fd2e78f8d9",
    "deepnote_cell_type": "text-cell-h3",
    "formattedRanges": [],
    "is_collapsed": false,
    "tags": []
   },
   "source": [
    "### Sign SGD"
   ]
  },
  {
   "cell_type": "code",
   "execution_count": 15,
   "metadata": {
    "cell_id": "2d7adc0e793341eea3a7a7cca5593468",
    "deepnote_cell_height": 458.0625,
    "deepnote_cell_type": "code",
    "deepnote_to_be_reexecuted": true,
    "execution_millis": 386989,
    "execution_start": 1655028277926,
    "source_hash": "e69da274",
    "tags": []
   },
   "outputs": [
    {
     "name": "stdout",
     "output_type": "stream",
     "text": [
      "Epoch 1/10 | Loss = 0.86 & Acc = 13.2\n",
      "Epoch 2/10 | Loss = 0.31 & Acc = 13.2\n",
      "Epoch 3/10 | Loss = 0.06 & Acc = 13.2\n",
      "Epoch 4/10 | Loss = 0.01 & Acc = 16.8\n",
      "Epoch 5/10 | Loss = 0.01 & Acc = 65.2\n",
      "Epoch 6/10 | Loss = 0.00 & Acc = 88.4\n",
      "Epoch 7/10 | Loss = 0.00 & Acc = 89.6\n",
      "Epoch 8/10 | Loss = 0.00 & Acc = 90.0\n",
      "Epoch 9/10 | Loss = 0.00 & Acc = 90.8\n",
      "Epoch 10/10 | Loss = 0.00 & Acc = 90.4\n",
      "\n"
     ]
    }
   ],
   "source": [
    "# Hyper-parameters\n",
    "lr = 0.0001\n",
    "\n",
    "# Re-initialize the model and the optimizer parameters\n",
    "model_sign = resnet18(NUM_CLASSES)\n",
    "optimizer_sign = signSGD(model_sign.parameters(), lr)\n",
    "\n",
    "# Train the model on the train and validation sets\n",
    "losses_sign, accs_sign = train_model(model_sign, criterion, optimizer_sign, dataloader_train, dataloader_test, EPOCHS_MAX)"
   ]
  },
  {
   "cell_type": "markdown",
   "metadata": {
    "cell_id": "90f6efeca5244accbc3ffd94c5aee41f",
    "deepnote_cell_type": "text-cell-h3",
    "formattedRanges": [],
    "is_collapsed": false,
    "tags": []
   },
   "source": [
    "### Signum SGD"
   ]
  },
  {
   "cell_type": "code",
   "execution_count": 16,
   "metadata": {
    "cell_id": "4bd7e0da7768402e85cd3a368fbe1beb",
    "deepnote_cell_height": 476.0625,
    "deepnote_cell_type": "code",
    "deepnote_to_be_reexecuted": true,
    "execution_millis": 404860,
    "execution_start": 1655028716551,
    "source_hash": "b00ea24b",
    "tags": []
   },
   "outputs": [
    {
     "name": "stdout",
     "output_type": "stream",
     "text": [
      "Epoch 1/10 | Loss = 0.57 & Acc = 13.2\n",
      "Epoch 2/10 | Loss = 0.13 & Acc = 20.8\n",
      "Epoch 3/10 | Loss = 0.03 & Acc = 26.4\n",
      "Epoch 4/10 | Loss = 0.03 & Acc = 59.2\n",
      "Epoch 5/10 | Loss = 0.03 & Acc = 86.8\n",
      "Epoch 6/10 | Loss = 0.02 & Acc = 88.4\n",
      "Epoch 7/10 | Loss = 0.03 & Acc = 90.0\n",
      "Epoch 8/10 | Loss = 0.18 & Acc = 88.0\n",
      "Epoch 9/10 | Loss = 0.09 & Acc = 91.2\n",
      "Epoch 10/10 | Loss = 0.03 & Acc = 90.0\n",
      "\n"
     ]
    }
   ],
   "source": [
    "# Hyper-parameters\n",
    "lr = 0.0001\n",
    "beta = 0.9\n",
    "\n",
    "# Re-initialize the model and the optimizer parameters\n",
    "model_signum = resnet18(NUM_CLASSES)\n",
    "optimizer_signum = signumSGD(model_signum.parameters(), lr, beta)\n",
    "\n",
    "# Train the model on the train and validation sets\n",
    "losses_signum, accs_signum = train_model(model_signum, criterion, optimizer_signum, dataloader_train, dataloader_test, EPOCHS_MAX)"
   ]
  },
  {
   "cell_type": "markdown",
   "metadata": {
    "cell_id": "773e625f64ac41cca07d63a458bd863a",
    "deepnote_cell_type": "text-cell-h3",
    "formattedRanges": [],
    "is_collapsed": false,
    "tags": []
   },
   "source": [
    "### Adagrad"
   ]
  },
  {
   "cell_type": "code",
   "execution_count": 17,
   "metadata": {
    "cell_id": "a13e0712d494492ba78c98065fe40d4f",
    "deepnote_cell_height": 530.0625,
    "deepnote_cell_type": "code",
    "deepnote_to_be_reexecuted": true,
    "execution_millis": 526300,
    "execution_start": 1655029120922,
    "source_hash": "2381eecb",
    "tags": []
   },
   "outputs": [
    {
     "name": "stdout",
     "output_type": "stream",
     "text": [
      "Epoch 1/10 | Loss = 0.78 & Acc = 8.0\n",
      "Epoch 2/10 | Loss = 0.21 & Acc = 28.0\n",
      "Epoch 3/10 | Loss = 0.08 & Acc = 52.8\n",
      "Epoch 4/10 | Loss = 0.13 & Acc = 79.2\n",
      "Epoch 5/10 | Loss = 0.03 & Acc = 94.8\n",
      "Epoch 6/10 | Loss = 0.02 & Acc = 93.2\n",
      "Epoch 7/10 | Loss = 0.01 & Acc = 95.6\n",
      "Epoch 8/10 | Loss = 0.00 & Acc = 95.2\n",
      "Epoch 9/10 | Loss = 0.01 & Acc = 96.4\n",
      "Epoch 10/10 | Loss = 0.00 & Acc = 96.4\n",
      "\n"
     ]
    }
   ],
   "source": [
    "# Hyper-parameters\n",
    "lr = 0.01\n",
    "lr_decay = 0\n",
    "weight_decay = 0.001\n",
    "initial_accumulator_value = 0\n",
    "eps = 1e-10\n",
    "\n",
    "# Re-initialize the model and the optimizer parameters\n",
    "model_adagrad = resnet18(NUM_CLASSES)\n",
    "optimizer_adagrad = optim.Adagrad(model_adagrad.parameters(), lr, lr_decay, weight_decay, initial_accumulator_value, eps)\n",
    "\n",
    "# Train the model on the train and validation sets\n",
    "losses_adagrad, accs_adagrad = train_model(model_adagrad, criterion, optimizer_adagrad, dataloader_train, dataloader_test, EPOCHS_MAX)"
   ]
  },
  {
   "cell_type": "markdown",
   "metadata": {
    "cell_id": "b4d911bc64214dc79466ce8f6693ea11",
    "deepnote_cell_type": "text-cell-h3",
    "formattedRanges": [],
    "is_collapsed": false,
    "tags": []
   },
   "source": [
    "### Adam"
   ]
  },
  {
   "cell_type": "code",
   "execution_count": 18,
   "metadata": {
    "cell_id": "4f7f944c03684bebb1e87db10fe2d59c",
    "deepnote_cell_height": 530.0625,
    "deepnote_cell_type": "code",
    "deepnote_to_be_reexecuted": true,
    "execution_millis": 615183,
    "execution_start": 1655029647221,
    "source_hash": "e62efed5",
    "tags": []
   },
   "outputs": [
    {
     "name": "stdout",
     "output_type": "stream",
     "text": [
      "Epoch 1/10 | Loss = 0.32 & Acc = 13.2\n",
      "Epoch 2/10 | Loss = 0.15 & Acc = 13.2\n",
      "Epoch 3/10 | Loss = 0.06 & Acc = 13.6\n",
      "Epoch 4/10 | Loss = 0.07 & Acc = 58.8\n",
      "Epoch 5/10 | Loss = 0.02 & Acc = 80.0\n",
      "Epoch 6/10 | Loss = 0.05 & Acc = 89.2\n",
      "Epoch 7/10 | Loss = 0.02 & Acc = 89.2\n",
      "Epoch 8/10 | Loss = 0.01 & Acc = 82.4\n",
      "Epoch 9/10 | Loss = 0.02 & Acc = 90.0\n",
      "Epoch 10/10 | Loss = 0.01 & Acc = 92.4\n",
      "\n"
     ]
    }
   ],
   "source": [
    "# Hyper-parameters\n",
    "lr = 0.001\n",
    "beta1 = 0.92\n",
    "beta2 = 0.999\n",
    "eps = 1e-8\n",
    "weight_decay = 0.001\n",
    "\n",
    "# Re-initialize the model and the optimizer parameters\n",
    "model_adam = resnet18(NUM_CLASSES)\n",
    "optimizer_adam = optim.Adam(model_adam.parameters(), lr, betas = (beta1, beta2), eps=eps, weight_decay=weight_decay)\n",
    "\n",
    "# Train the model on the train and validation sets\n",
    "losses_adam, accs_adam = train_model(model_adam, criterion, optimizer_adam, dataloader_train, dataloader_test, EPOCHS_MAX)"
   ]
  },
  {
   "cell_type": "markdown",
   "metadata": {
    "cell_id": "011e510a08cc46d6a36c03387ea8a0c8",
    "deepnote_cell_type": "text-cell-h3",
    "formattedRanges": [],
    "is_collapsed": false,
    "tags": []
   },
   "source": [
    "### Ploting"
   ]
  },
  {
   "cell_type": "code",
   "execution_count": 19,
   "metadata": {
    "cell_id": "bc477b64d29444c8931d29b4180645ca",
    "deepnote_cell_height": 959.1875,
    "deepnote_cell_type": "code",
    "deepnote_output_heights": [
     358.1875
    ],
    "deepnote_to_be_reexecuted": true,
    "execution_millis": 1385,
    "execution_start": 1655030262433,
    "source_hash": "a6dc9288",
    "tags": []
   },
   "outputs": [
    {
     "data": {
      "image/png": "[encoded data removed]",
      "text/plain": [
       "<Figure size 1440x576 with 2 Axes>"
      ]
     },
     "metadata": {
      "needs_background": "light"
     },
     "output_type": "display_data"
    }
   ],
   "source": [
    "x = range(1, EPOCHS_MAX+1)\n",
    "\n",
    "fig, axes = plt.subplots(nrows=1, ncols=2, figsize=(20, 8))\n",
    "\n",
    "axes[0].plot(x, losses_SGD, label = \"SGD\")\n",
    "axes[0].plot(x, losses_SGD_momentum, label = \"SGD_momentum\")\n",
    "axes[0].plot(x, losses_sign, label = \"SignSGD\")\n",
    "axes[0].plot(x, losses_signum, label = \"SignumSGD\")\n",
    "axes[0].plot(x, losses_adagrad, label = \"Adagrad\")\n",
    "axes[0].plot(x, losses_adam, label = \"Adam\")\n",
    "\n",
    "axes[0].set_ylabel(\"Loss\")\n",
    "axes[0].set_xlabel(\"Epochs\")\n",
    "\n",
    "axes[0].legend()\n",
    "axes[0].grid()\n",
    "\n",
    "axes[1].plot(x, accs_SGD, label = \"SGD\")\n",
    "axes[1].plot(x, accs_SGD_momentum, label = \"SGD_momentum\")\n",
    "axes[1].plot(x, accs_sign, label = \"SignSGD\")\n",
    "axes[1].plot(x, accs_signum, label = \"SignumSGD\")\n",
    "axes[1].plot(x, accs_adagrad, label = \"Adagrad\")\n",
    "axes[1].plot(x, accs_adam, label = \"Adam\")\n",
    "\n",
    "axes[1].set_ylabel(\"Accuracy (%)\")\n",
    "axes[1].set_xlabel(\"Epochs\")\n",
    "\n",
    "axes[1].legend()\n",
    "axes[1].grid()"
   ]
  },
  {
   "cell_type": "markdown",
   "metadata": {
    "cell_id": "807c062c7aec40a8964ae371542db7eb",
    "deepnote_cell_type": "text-cell-h3",
    "formattedRanges": [],
    "is_collapsed": false,
    "tags": []
   },
   "source": [
    "### Workers"
   ]
  },
  {
   "cell_type": "code",
   "execution_count": 20,
   "metadata": {
    "cell_id": "8118e045cba44b29beb9041c0b6c0e1b",
    "deepnote_cell_height": 459,
    "deepnote_cell_type": "code",
    "deepnote_to_be_reexecuted": true,
    "execution_millis": 1,
    "execution_start": 1655041731212,
    "source_hash": "f01a4ec7",
    "tags": []
   },
   "outputs": [],
   "source": [
    "class FC(nn.Module):\n",
    "\n",
    "    def __init__(self):\n",
    "\n",
    "        super(FC, self).__init__()\n",
    "\n",
    "        self.fc1 = nn.Linear(784, 512)\n",
    "        self.fc2 = nn.Linear(512, 256)\n",
    "        self.fc3 = nn.Linear(256, 128)\n",
    "        self.fc4 = nn.Linear(128, 10)\n",
    "\n",
    "    def forward(self, x):\n",
    "\n",
    "        # The images are first flatten to vectors\n",
    "        x = x.flatten(-3)\n",
    "\n",
    "        x = F.relu(self.fc1(x))\n",
    "        x = F.relu(self.fc2(x))\n",
    "        x = F.relu(self.fc3(x))\n",
    "        x = self.fc4(x)\n",
    "        \n",
    "        return F.log_softmax(x,dim=1)"
   ]
  },
  {
   "cell_type": "code",
   "execution_count": 21,
   "metadata": {
    "cell_id": "2183de8bb7a74e4e8044a2fc0f8ae81e",
    "deepnote_cell_height": 171,
    "deepnote_cell_type": "code",
    "deepnote_to_be_reexecuted": true,
    "execution_millis": 0,
    "execution_start": 1655041731213,
    "source_hash": "e60b854",
    "tags": []
   },
   "outputs": [],
   "source": [
    "def accuracy(x, y):\n",
    "\n",
    "    x = x.detach().cpu().numpy()\n",
    "    y = y.detach().cpu().numpy()\n",
    "    \n",
    "    return np.mean(np.argmax(x, axis=1) == y)"
   ]
  },
  {
   "cell_type": "code",
   "execution_count": 22,
   "metadata": {
    "cell_id": "aff9801c1a2b487abf23f56dfe4c0ae7",
    "deepnote_cell_height": 729,
    "deepnote_cell_type": "code",
    "deepnote_to_be_reexecuted": true,
    "execution_millis": 30,
    "execution_start": 1655041733918,
    "source_hash": "90937155",
    "tags": []
   },
   "outputs": [],
   "source": [
    "class signumSGD_worker(optim.Optimizer):\n",
    "\n",
    "    def __init__(self, params, lr=0.01, beta=0.1):\n",
    "\n",
    "        self.beta = beta\n",
    "        self.momentum = None\n",
    "\n",
    "        defaults = dict(lr=lr)\n",
    "        super(signumSGD_worker, self).__init__(params, defaults)\n",
    "\n",
    "    def step(self):\n",
    "\n",
    "        if self.momentum == None:\n",
    "            self.momentum = [None for group in self.param_groups]\n",
    "            \n",
    "        signs = [[torch.zeros(p.size()) for p in group['params']] for group in self.param_groups]\n",
    "\n",
    "        for i, group in enumerate(self.param_groups):\n",
    "            \n",
    "            if self.momentum[i] == None:\n",
    "                self.momentum[i] = [torch.zeros(p.size()) for p in group[\"params\"]]\n",
    "                \n",
    "            for j, p in enumerate(group['params']):\n",
    "                \n",
    "                if p.grad is None:\n",
    "                    continue\n",
    "\n",
    "                self.momentum[i][j] = self.beta * self.momentum[i][j] + (1 - self.beta) * p.grad\n",
    "                signs[i][j] = torch.sign(self.momentum[i][j])\n",
    "                \n",
    "        return signs\n",
    "            \n",
    "    def update(self, signs):\n",
    "            \n",
    "        for i, group in enumerate(self.param_groups):\n",
    "            for j, p in enumerate(group['params']):\n",
    "                p.data -= group['lr'] * torch.sign(signs[i][j])"
   ]
  },
  {
   "cell_type": "code",
   "execution_count": 23,
   "metadata": {
    "cell_id": "b722d14712da41f4bcbe7f81a1484b7c",
    "deepnote_cell_height": 549,
    "deepnote_cell_type": "code",
    "deepnote_to_be_reexecuted": true,
    "execution_millis": 3,
    "execution_start": 1655041737503,
    "source_hash": "abad778d",
    "tags": []
   },
   "outputs": [],
   "source": [
    "class worker_signum:\n",
    "    \n",
    "    def __init__(self, learning_rate, beta, batch):\n",
    "        \n",
    "        self.model = FC()\n",
    "        self.criterion = nn.CrossEntropyLoss()\n",
    "        self.optimizer = signumSGD_worker(self.model.parameters(), lr=learning_rate, beta=beta)\n",
    "        self.batch = batch\n",
    "        \n",
    "    def train(self):\n",
    "        \n",
    "        x,y = self.batch\n",
    "        \n",
    "        self.model.train()\n",
    "        \n",
    "        logits = self.model.forward(x)\n",
    "            \n",
    "        loss = self.criterion(logits, y)\n",
    "        loss.backward()\n",
    "\n",
    "        signs = self.optimizer.step()\n",
    "        self.optimizer.zero_grad()\n",
    "        \n",
    "        return signs, float(loss)\n",
    "    \n",
    "    def update(self, signs):\n",
    "        self.optimizer.update(signs)"
   ]
  },
  {
   "cell_type": "code",
   "execution_count": 24,
   "metadata": {
    "cell_id": "6bb5f4dabbf048fb9a5b6bbb66e81592",
    "deepnote_cell_height": 1359,
    "deepnote_cell_type": "code",
    "deepnote_to_be_reexecuted": true,
    "execution_millis": 18,
    "execution_start": 1655041887097,
    "source_hash": "41bc78c4",
    "tags": []
   },
   "outputs": [],
   "source": [
    "def evaluating_workers(learning_rate, beta, dataloader_train, dataloader_test, epochs=EPOCHS_MAX):\n",
    "    \n",
    "    # This is the server\n",
    "    \n",
    "    workers = []\n",
    "    \n",
    "    for it, batch in enumerate(dataloader_train):\n",
    "         workers.append(worker_signum(learning_rate, beta, batch))\n",
    "            \n",
    "    M = len(workers)\n",
    "    \n",
    "    print(\"--> \" + str(M) + \" travailleurs\")\n",
    "            \n",
    "    final_model = FC()\n",
    "    criterion = nn.CrossEntropyLoss()\n",
    "    optimizer = signumSGD_worker(final_model.parameters(), lr=learning_rate, beta=beta)\n",
    "    \n",
    "    losses = []\n",
    "    accs = []\n",
    "            \n",
    "    for ep in range(epochs*M):\n",
    "        \n",
    "        # Training\n",
    "        \n",
    "        full_signs = None\n",
    "        full_loss = 0\n",
    "        \n",
    "        for worker in workers:\n",
    "            \n",
    "            signs, loss = worker.train()\n",
    "            \n",
    "            if full_signs == None:\n",
    "                full_signs = signs\n",
    "            else:\n",
    "                for i in range(len(full_signs)):\n",
    "                    for j in range(len(full_signs[i])):\n",
    "                        full_signs[i][j] = torch.add(full_signs[i][j], signs[i][j])\n",
    "                        \n",
    "            full_loss += loss\n",
    "                \n",
    "        # Update\n",
    "        \n",
    "        for worker in workers:\n",
    "            worker.update(full_signs)\n",
    "        \n",
    "        optimizer.update(full_signs)\n",
    "        \n",
    "        # Eval\n",
    "\n",
    "        if (ep+1)%M == 0:\n",
    "        \n",
    "            final_model.eval()\n",
    "            \n",
    "            with torch.no_grad():\n",
    "                \n",
    "                acc_run = 0\n",
    "                \n",
    "                for it, batch in enumerate(dataloader_test):\n",
    "                    x, y = batch\n",
    "                    curr_bs = x.shape[0]\n",
    "                    acc_run += accuracy(final_model(x), y) * curr_bs\n",
    "                    \n",
    "                acc = acc_run / len(dataloader_test.dataset) * 100\n",
    "                \n",
    "            print(\"Epoch {}/{} | Loss = {:.2f} & Acc = {:.1f}\".format(ep+1, epochs*M, full_loss, acc))\n",
    "            \n",
    "            losses.append(full_loss)\n",
    "            accs.append(acc)\n",
    "        \n",
    "    print(\"\")\n",
    "    \n",
    "    return losses, accs, final_model"
   ]
  },
  {
   "cell_type": "code",
   "execution_count": 29,
   "metadata": {
    "cell_id": "5905014e1e42424a9af4c18b66ba664d",
    "deepnote_cell_height": 406,
    "deepnote_cell_type": "code",
    "deepnote_output_heights": [
     155.5,
     607
    ],
    "deepnote_to_be_reexecuted": true,
    "execution_millis": 1607,
    "execution_start": 1655049128667,
    "source_hash": "1def1280",
    "tags": []
   },
   "outputs": [
    {
     "name": "stdout",
     "output_type": "stream",
     "text": [
      "--> 12 travailleurs\n",
      "Epoch 12/120 | Loss = 19.87 & Acc = 30.0\n",
      "Epoch 24/120 | Loss = 3.49 & Acc = 79.6\n",
      "Epoch 36/120 | Loss = 1.32 & Acc = 84.0\n",
      "Epoch 48/120 | Loss = 0.69 & Acc = 85.6\n",
      "Epoch 60/120 | Loss = 0.97 & Acc = 84.0\n",
      "Epoch 72/120 | Loss = 0.74 & Acc = 83.6\n",
      "Epoch 84/120 | Loss = 2.15 & Acc = 84.0\n",
      "Epoch 96/120 | Loss = 2.39 & Acc = 84.4\n",
      "Epoch 108/120 | Loss = 2.28 & Acc = 83.6\n",
      "Epoch 120/120 | Loss = 1.84 & Acc = 84.0\n",
      "\n"
     ]
    }
   ],
   "source": [
    "# Hyper-parameters\n",
    "lr = 0.01\n",
    "beta = 0.9\n",
    "\n",
    "losses_workers, accs_workers, model_workers = evaluating_workers(lr, beta, dataloader_train, dataloader_test, EPOCHS_MAX)"
   ]
  },
  {
   "cell_type": "markdown",
   "metadata": {
    "cell_id": "b3c1f974d0bf480da219f728dde1b1e6",
    "deepnote_cell_type": "text-cell-h2",
    "formattedRanges": [],
    "is_collapsed": false,
    "tags": []
   },
   "source": [
    "## Ploting + Workers"
   ]
  },
  {
   "cell_type": "code",
   "execution_count": 30,
   "metadata": {
    "cell_id": "52bebac219674b7ea674a88c380c55eb",
    "deepnote_cell_height": 606,
    "deepnote_cell_type": "code",
    "deepnote_to_be_reexecuted": true,
    "source_hash": "7b31827d",
    "tags": []
   },
   "outputs": [
    {
     "data": {
      "image/png": "[encoded data removed]",
      "text/plain": [
       "<Figure size 1440x576 with 2 Axes>"
      ]
     },
     "metadata": {
      "needs_background": "light"
     },
     "output_type": "display_data"
    }
   ],
   "source": [
    "x = range(1, EPOCHS_MAX+1)\n",
    "\n",
    "fig, axes = plt.subplots(nrows=1, ncols=2, figsize=(20, 8))\n",
    "\n",
    "axes[0].plot(x, losses_SGD, label = \"SGD\")\n",
    "axes[0].plot(x, losses_SGD_momentum, label = \"SGD_momentum\")\n",
    "axes[0].plot(x, losses_sign, label = \"SignSGD\")\n",
    "axes[0].plot(x, losses_signum, label = \"SignumSGD\")\n",
    "axes[0].plot(x, losses_adagrad, label = \"Adagrad\")\n",
    "axes[0].plot(x, losses_adam, label = \"Adam\")\n",
    "axes[0].plot(x, losses_workers, label = \"Workers\")\n",
    "\n",
    "axes[0].set_ylabel(\"Loss\")\n",
    "axes[0].set_xlabel(\"Epochs\")\n",
    "\n",
    "axes[0].legend()\n",
    "axes[0].grid()\n",
    "\n",
    "axes[1].plot(x, accs_SGD, label = \"SGD\")\n",
    "axes[1].plot(x, accs_SGD_momentum, label = \"SGD_momentum\")\n",
    "axes[1].plot(x, accs_sign, label = \"SignSGD\")\n",
    "axes[1].plot(x, accs_signum, label = \"SignumSGD\")\n",
    "axes[1].plot(x, accs_adagrad, label = \"Adagrad\")\n",
    "axes[1].plot(x, accs_adam, label = \"Adam\")\n",
    "axes[1].plot(x, accs_workers, label = \"Workers\")\n",
    "\n",
    "axes[1].set_ylabel(\"Accuracy (%)\")\n",
    "axes[1].set_xlabel(\"Epochs\")\n",
    "\n",
    "axes[1].legend()\n",
    "axes[1].grid()"
   ]
  }
 ],
 "metadata": {
  "deepnote": {},
  "deepnote_execution_queue": [],
  "deepnote_notebook_id": "6d9df9d5-47b5-4d2b-9b0a-393b1ee27c9d",
  "kernelspec": {
   "display_name": "Python 3 (ipykernel)",
   "language": "python",
   "name": "python3"
  },
  "language_info": {
   "codemirror_mode": {
    "name": "ipython",
    "version": 3
   },
   "file_extension": ".py",
   "mimetype": "text/x-python",
   "name": "python",
   "nbconvert_exporter": "python",
   "pygments_lexer": "ipython3",
   "version": "3.7.3"
  }
 },
 "nbformat": 4,
 "nbformat_minor": 2
}
