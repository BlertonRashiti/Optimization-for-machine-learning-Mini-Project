{
 "cells": [
  {
   "cell_type": "code",
   "execution_count": 1,
   "metadata": {
    "deepnote_cell_height": 387,
    "deepnote_cell_type": "code",
    "deepnote_to_be_reexecuted": false,
    "execution_millis": 13,
    "execution_start": 1655026727541,
    "source_hash": "a99477d",
    "tags": []
   },
   "outputs": [],
   "source": [
    "import math\n",
    "import numpy as np\n",
    "import copy\n",
    "import matplotlib.pyplot as plt\n",
    "\n",
    "import torchvision\n",
    "from torchvision.datasets import MNIST\n",
    "from torchvision.transforms import ToTensor\n",
    "\n",
    "import torch\n",
    "import torch.nn as nn\n",
    "import torch.nn.functional as F\n",
    "import torch.optim as optim\n",
    "from torch.utils.data import DataLoader"
   ]
  },
  {
   "cell_type": "markdown",
   "metadata": {
    "deepnote_cell_type": "text-cell-h1",
    "formattedRanges": [],
    "is_collapsed": false,
    "tags": []
   },
   "source": [
    "# Load the data"
   ]
  },
  {
   "cell_type": "code",
   "execution_count": 3,
   "metadata": {
    "deepnote_cell_height": 297,
    "deepnote_cell_type": "code",
    "deepnote_to_be_reexecuted": false,
    "execution_millis": 6,
    "execution_start": 1655026729205,
    "source_hash": "66f6f143",
    "tags": []
   },
   "outputs": [],
   "source": [
    "TRAIN_SIZE = 1500\n",
    "VALID_SIZE = 250\n",
    "TEST_SIZE = 250\n",
    "\n",
    "BATCH_SIZE = 125\n",
    "\n",
    "EPOCHS_MAX = 10\n",
    "\n",
    "NUM_FEATURES = 28*28\n",
    "NUM_CLASSES = 10\n",
    "\n",
    "RANDOM_SEED = 1"
   ]
  },
  {
   "cell_type": "code",
   "execution_count": 4,
   "metadata": {
    "deepnote_cell_height": 99,
    "deepnote_cell_type": "code",
    "deepnote_to_be_reexecuted": false,
    "execution_millis": 385,
    "execution_start": 1655026795951,
    "source_hash": "78a7336b",
    "tags": []
   },
   "outputs": [],
   "source": [
    "dataset_train = MNIST('data', train=True, download=True, transform=ToTensor())\n",
    "dataset_test = MNIST('data', train=False, download=True, transform=ToTensor())"
   ]
  },
  {
   "cell_type": "code",
   "execution_count": 5,
   "metadata": {
    "deepnote_cell_height": 189,
    "deepnote_cell_type": "code",
    "deepnote_to_be_reexecuted": false,
    "execution_millis": 3,
    "execution_start": 1655026796475,
    "source_hash": "411d6f09",
    "tags": []
   },
   "outputs": [],
   "source": [
    "dataset_training = torch.utils.data.Subset(dataset_train, range(0, TRAIN_SIZE))\n",
    "#dataset_validating = torch.utils.data.Subset(dataset_test, range(0, VALID_SIZE))\n",
    "dataset_testing = torch.utils.data.Subset(dataset_test, range(VALID_SIZE, VALID_SIZE + TEST_SIZE))\n",
    "\n",
    "dataloader_train = DataLoader(dataset_training, batch_size=BATCH_SIZE, shuffle=True)\n",
    "#dataloader_valid = DataLoader(dataset_validating, batch_size=BATCH_SIZE, shuffle=False)\n",
    "dataloader_test = DataLoader(dataset_testing, batch_size=BATCH_SIZE, shuffle=False)"
   ]
  },
  {
   "cell_type": "code",
   "execution_count": 6,
   "metadata": {},
   "outputs": [
    {
     "data": {
      "text/plain": [
       "<torch._C.Generator at 0x2277634a498>"
      ]
     },
     "execution_count": 6,
     "metadata": {},
     "output_type": "execute_result"
    }
   ],
   "source": [
    "torch.manual_seed(RANDOM_SEED)"
   ]
  },
  {
   "cell_type": "markdown",
   "metadata": {
    "deepnote_cell_type": "text-cell-h1",
    "formattedRanges": [],
    "is_collapsed": false,
    "tags": []
   },
   "source": [
    "# Define the model"
   ]
  },
  {
   "cell_type": "markdown",
   "metadata": {},
   "source": [
    "RESNET-18 from https://github.com/rasbt/deeplearning-models/blob/master/pytorch_ipynb/cnn/cnn-resnet18-mnist.ipynb"
   ]
  },
  {
   "cell_type": "code",
   "execution_count": 7,
   "metadata": {
    "deepnote_cell_height": 2025,
    "deepnote_cell_type": "code",
    "deepnote_to_be_reexecuted": false,
    "execution_millis": 30,
    "execution_start": 1655026731842,
    "source_hash": "67054bef",
    "tags": []
   },
   "outputs": [],
   "source": [
    "def conv3x3(in_planes, out_planes, stride=1):\n",
    "    return nn.Conv2d(in_planes, out_planes, kernel_size=3, stride=stride, padding=1, bias=False)\n",
    "\n",
    "class BasicBlock(nn.Module):\n",
    "    \n",
    "    expansion = 1\n",
    "\n",
    "    def __init__(self, inplanes, planes, stride=1, downsample=None):\n",
    "        \n",
    "        super(BasicBlock, self).__init__()\n",
    "        \n",
    "        self.conv1 = conv3x3(inplanes, planes, stride)\n",
    "        self.bn1 = nn.BatchNorm2d(planes)\n",
    "        self.relu = nn.ReLU(inplace=True)\n",
    "        self.conv2 = conv3x3(planes, planes)\n",
    "        self.bn2 = nn.BatchNorm2d(planes)\n",
    "        self.downsample = downsample\n",
    "        self.stride = stride\n",
    "\n",
    "    def forward(self, x):\n",
    "        \n",
    "        residual = x\n",
    "\n",
    "        out = self.conv1(x)\n",
    "        out = self.bn1(out)\n",
    "        out = self.relu(out)\n",
    "\n",
    "        out = self.conv2(out)\n",
    "        out = self.bn2(out)\n",
    "\n",
    "        if self.downsample is not None:\n",
    "            residual = self.downsample(x)\n",
    "\n",
    "        out += residual\n",
    "        out = self.relu(out)\n",
    "\n",
    "        return out\n",
    "\n",
    "class ResNet(nn.Module):\n",
    "\n",
    "    def __init__(self, block, layers, num_classes):\n",
    "        \n",
    "        self.inplanes = 64\n",
    "        in_dim = 1\n",
    "        \n",
    "        super(ResNet, self).__init__()\n",
    "        \n",
    "        self.conv1 = nn.Conv2d(in_dim, 64, kernel_size=7, stride=2, padding=3, bias=False)\n",
    "        self.bn1 = nn.BatchNorm2d(64)\n",
    "        self.relu = nn.ReLU(inplace=True)\n",
    "        self.maxpool = nn.MaxPool2d(kernel_size=3, stride=2, padding=1)\n",
    "        self.layer1 = self._make_layer(block, 64, layers[0])\n",
    "        self.layer2 = self._make_layer(block, 128, layers[1], stride=2)\n",
    "        self.layer3 = self._make_layer(block, 256, layers[2], stride=2)\n",
    "        self.layer4 = self._make_layer(block, 512, layers[3], stride=2)\n",
    "        self.avgpool = nn.AvgPool2d(7, stride=1)\n",
    "        self.fc = nn.Linear(512 * block.expansion, num_classes)\n",
    "\n",
    "        for m in self.modules():\n",
    "            if isinstance(m, nn.Conv2d):\n",
    "                n = m.kernel_size[0] * m.kernel_size[1] * m.out_channels\n",
    "                m.weight.data.normal_(0, (2. / n)**.5)\n",
    "            elif isinstance(m, nn.BatchNorm2d):\n",
    "                m.weight.data.fill_(1)\n",
    "                m.bias.data.zero_()\n",
    "\n",
    "    def _make_layer(self, block, planes, blocks, stride=1):\n",
    "        \n",
    "        downsample = None\n",
    "        \n",
    "        if stride != 1 or self.inplanes != planes * block.expansion:\n",
    "            downsample = nn.Sequential(\n",
    "                nn.Conv2d(self.inplanes, planes * block.expansion, kernel_size=1, stride=stride, bias=False),\n",
    "                nn.BatchNorm2d(planes * block.expansion),\n",
    "            )\n",
    "\n",
    "        layers = []\n",
    "        layers.append(block(self.inplanes, planes, stride, downsample))\n",
    "        self.inplanes = planes * block.expansion\n",
    "        \n",
    "        for i in range(1, blocks):\n",
    "            layers.append(block(self.inplanes, planes))\n",
    "\n",
    "        return nn.Sequential(*layers)\n",
    "\n",
    "    def forward(self, x):\n",
    "        \n",
    "        x = self.conv1(x)\n",
    "        x = self.bn1(x)\n",
    "        x = self.relu(x)\n",
    "        x = self.maxpool(x)\n",
    "\n",
    "        x = self.layer1(x)\n",
    "        x = self.layer2(x)\n",
    "        x = self.layer3(x)\n",
    "        x = self.layer4(x)\n",
    "        \n",
    "        x = x.view(x.size(0), -1)\n",
    "        logits = self.fc(x)\n",
    "        probas = F.softmax(logits, dim=1)\n",
    "        \n",
    "        return logits, probas\n",
    "\n",
    "def resnet18(num_classes):\n",
    "    \"\"\"Constructs a ResNet-18 model.\"\"\"\n",
    "    model = ResNet(block=BasicBlock, layers=[2, 2, 2, 2], num_classes=num_classes)\n",
    "    return model"
   ]
  },
  {
   "cell_type": "code",
   "execution_count": 8,
   "metadata": {
    "deepnote_cell_height": 297,
    "deepnote_cell_type": "code",
    "deepnote_to_be_reexecuted": false,
    "execution_millis": 1,
    "execution_start": 1655026960884,
    "source_hash": "2003d04e",
    "tags": []
   },
   "outputs": [],
   "source": [
    "def compute_accuracy(model, data_loader):\n",
    "    \n",
    "    correct_pred = 0\n",
    "    num_examples = 0\n",
    "    \n",
    "    for i, (features, targets) in enumerate(data_loader):\n",
    "\n",
    "        logits, probas = model(features)\n",
    "        _, predicted_labels = torch.max(probas, 1)\n",
    "        num_examples += targets.size(0)\n",
    "        correct_pred += (predicted_labels == targets).sum()\n",
    "        \n",
    "    return correct_pred.float() / num_examples * 100"
   ]
  },
  {
   "cell_type": "code",
   "execution_count": 9,
   "metadata": {},
   "outputs": [],
   "source": [
    "class FC(nn.Module):\n",
    "\n",
    "    def __init__(self):\n",
    "\n",
    "        super(FC, self).__init__()\n",
    "\n",
    "        self.fc1 = nn.Linear(784, 512)\n",
    "        self.fc2 = nn.Linear(512, 256)\n",
    "        self.fc3 = nn.Linear(256, 128)\n",
    "        self.fc4 = nn.Linear(128, 10)\n",
    "\n",
    "    def forward(self, x):\n",
    "\n",
    "        # The images are first flatten to vectors\n",
    "        x = x.flatten(-3)\n",
    "\n",
    "        x = F.relu(self.fc1(x))\n",
    "        x = F.relu(self.fc2(x))\n",
    "        x = F.relu(self.fc3(x))\n",
    "        x = self.fc4(x)\n",
    "        \n",
    "        return F.log_softmax(x,dim=1)"
   ]
  },
  {
   "cell_type": "code",
   "execution_count": 10,
   "metadata": {},
   "outputs": [],
   "source": [
    "def accuracy(x, y):\n",
    "\n",
    "    x = x.detach().cpu().numpy()\n",
    "    y = y.detach().cpu().numpy()\n",
    "    \n",
    "    return np.mean(np.argmax(x, axis=1) == y)"
   ]
  },
  {
   "cell_type": "markdown",
   "metadata": {
    "deepnote_cell_type": "text-cell-h3",
    "formattedRanges": [],
    "is_collapsed": false,
    "tags": []
   },
   "source": [
    "### Define the loss function"
   ]
  },
  {
   "cell_type": "code",
   "execution_count": 11,
   "metadata": {
    "deepnote_cell_height": 81,
    "deepnote_cell_type": "code",
    "deepnote_to_be_reexecuted": false,
    "execution_millis": 3,
    "execution_start": 1655026755420,
    "source_hash": "fd30af43",
    "tags": []
   },
   "outputs": [],
   "source": [
    "criterion = nn.CrossEntropyLoss()"
   ]
  },
  {
   "cell_type": "markdown",
   "metadata": {},
   "source": [
    "### Workers"
   ]
  },
  {
   "cell_type": "markdown",
   "metadata": {},
   "source": [
    "Inspiration from https://arxiv.org/pdf/1802.04434.pdf"
   ]
  },
  {
   "cell_type": "code",
   "execution_count": 12,
   "metadata": {},
   "outputs": [],
   "source": [
    "class signumSGD_worker_resnet(optim.Optimizer):\n",
    "\n",
    "    def __init__(self, params, lr=0.01, beta=0.1):\n",
    "\n",
    "        self.beta = beta\n",
    "        self.momentum = None\n",
    "\n",
    "        defaults = dict(lr=lr)\n",
    "        super(signumSGD_worker_resnet, self).__init__(params, defaults)\n",
    "\n",
    "    def step(self):\n",
    "\n",
    "        if self.momentum == None:\n",
    "            self.momentum = [None for group in self.param_groups]\n",
    "            \n",
    "        signs = [[torch.zeros(p.size()) for p in group['params']] for group in self.param_groups]\n",
    "\n",
    "        for i, group in enumerate(self.param_groups):\n",
    "            \n",
    "            if self.momentum[i] == None:\n",
    "                self.momentum[i] = [torch.zeros(p.size()) for p in group[\"params\"]]\n",
    "                \n",
    "            for j, p in enumerate(group['params']):\n",
    "                \n",
    "                if p.grad is None:\n",
    "                    continue\n",
    "\n",
    "                self.momentum[i][j] = self.beta * self.momentum[i][j] + (1 - self.beta) * p.grad\n",
    "                signs[i][j] = torch.sign(self.momentum[i][j])\n",
    "                \n",
    "        return signs\n",
    "            \n",
    "    def update(self, signs):\n",
    "            \n",
    "        for i, group in enumerate(self.param_groups):\n",
    "            for j, p in enumerate(group['params']):\n",
    "                p.data -= group['lr'] * signs[i][j]"
   ]
  },
  {
   "cell_type": "code",
   "execution_count": 13,
   "metadata": {},
   "outputs": [],
   "source": [
    "class worker_signum_resnet:\n",
    "    \n",
    "    def __init__(self, learning_rate, beta, batch):\n",
    "        \n",
    "        self.model = resnet18(NUM_CLASSES)\n",
    "        self.criterion = nn.CrossEntropyLoss()\n",
    "        self.optimizer = signumSGD_worker_resnet(self.model.parameters(), lr=learning_rate, beta=beta)\n",
    "        self.batch = batch\n",
    "        \n",
    "    def train(self):\n",
    "        \n",
    "        x,y = self.batch\n",
    "        \n",
    "        self.model.train()\n",
    "        \n",
    "        logits, probas = self.model.forward(x)\n",
    "            \n",
    "        loss = self.criterion(logits, y)\n",
    "        loss.backward()\n",
    "\n",
    "        signs = self.optimizer.step()\n",
    "        self.optimizer.zero_grad()\n",
    "        \n",
    "        return signs, float(loss)\n",
    "    \n",
    "    def update(self, signs):\n",
    "        self.optimizer.update(signs)"
   ]
  },
  {
   "cell_type": "code",
   "execution_count": 14,
   "metadata": {},
   "outputs": [],
   "source": [
    "def evaluating_workers_resnet(learning_rate, beta, dataloader_train, dataloader_test, epochs=EPOCHS_MAX):\n",
    "    \n",
    "    # This is the server\n",
    "    \n",
    "    workers = []\n",
    "    \n",
    "    for it, batch in enumerate(dataloader_train):\n",
    "         workers.append(worker_signum_resnet(learning_rate, beta, batch))\n",
    "            \n",
    "    M = len(workers)\n",
    "    \n",
    "    print(\"--> \" + str(M) + \" travailleurs\")\n",
    "            \n",
    "    final_model = resnet18(NUM_CLASSES)\n",
    "    criterion = nn.CrossEntropyLoss()\n",
    "    optimizer = signumSGD_worker_resnet(final_model.parameters(), lr=learning_rate, beta=beta)\n",
    "    \n",
    "    losses = []\n",
    "    accs = []\n",
    "            \n",
    "    for ep in range(epochs*M):\n",
    "        \n",
    "        # Training\n",
    "        \n",
    "        full_signs = None\n",
    "        full_loss = 0\n",
    "        \n",
    "        for worker in workers:\n",
    "            \n",
    "            signs, loss = worker.train()\n",
    "            \n",
    "            if full_signs == None:\n",
    "                full_signs = signs\n",
    "            else:\n",
    "                for i in range(len(full_signs)):\n",
    "                    for j in range(len(full_signs[i])):\n",
    "                        full_signs[i][j] = torch.add(full_signs[i][j], signs[i][j])\n",
    "                        \n",
    "            full_loss += loss\n",
    "                \n",
    "        # Update\n",
    "        \n",
    "        for i in range(len(full_signs)):\n",
    "            for j in range(len(full_signs[i])):\n",
    "                full_signs[i][j] = torch.sign(full_signs[i][j])\n",
    "        \n",
    "        for worker in workers:\n",
    "            worker.update(full_signs)\n",
    "        \n",
    "        optimizer.update(full_signs)\n",
    "        \n",
    "        # Eval\n",
    "\n",
    "        if (ep+1)%M == 0:\n",
    "            \n",
    "            final_model.eval()\n",
    "        \n",
    "            with torch.no_grad():\n",
    "                acc = compute_accuracy(final_model, dataloader_test)\n",
    "\n",
    "            print(\"Epoch {}/{} | Loss = {:.2f} & Acc = {:.1f}\".format(ep+1, epochs*M, full_loss, acc))\n",
    "            \n",
    "            losses.append(full_loss)\n",
    "            accs.append(acc)\n",
    "        \n",
    "    print(\"\")\n",
    "    \n",
    "    return losses, accs, final_model"
   ]
  },
  {
   "cell_type": "code",
   "execution_count": 15,
   "metadata": {},
   "outputs": [],
   "source": [
    "class signumSGD_worker_fc(optim.Optimizer):\n",
    "\n",
    "    def __init__(self, params, lr=0.01, beta=0.1):\n",
    "\n",
    "        self.beta = beta\n",
    "        self.momentum = None\n",
    "\n",
    "        defaults = dict(lr=lr)\n",
    "        super(signumSGD_worker_fc, self).__init__(params, defaults)\n",
    "\n",
    "    def step(self):\n",
    "\n",
    "        if self.momentum == None:\n",
    "            self.momentum = [None for group in self.param_groups]\n",
    "            \n",
    "        signs = [[torch.zeros(p.size()) for p in group['params']] for group in self.param_groups]\n",
    "\n",
    "        for i, group in enumerate(self.param_groups):\n",
    "            \n",
    "            if self.momentum[i] == None:\n",
    "                self.momentum[i] = [torch.zeros(p.size()) for p in group[\"params\"]]\n",
    "                \n",
    "            for j, p in enumerate(group['params']):\n",
    "                \n",
    "                if p.grad is None:\n",
    "                    continue\n",
    "\n",
    "                self.momentum[i][j] = self.beta * self.momentum[i][j] + (1 - self.beta) * p.grad\n",
    "                signs[i][j] = torch.sign(self.momentum[i][j])\n",
    "                \n",
    "        return signs\n",
    "            \n",
    "    def update(self, signs):\n",
    "            \n",
    "        for i, group in enumerate(self.param_groups):\n",
    "            for j, p in enumerate(group['params']):\n",
    "                p.data -= group['lr'] * signs[i][j]"
   ]
  },
  {
   "cell_type": "code",
   "execution_count": 23,
   "metadata": {},
   "outputs": [],
   "source": [
    "class worker_signum_fc:\n",
    "    \n",
    "    def __init__(self, lr, beta, batch):\n",
    "        \n",
    "        self.model = FC()\n",
    "        self.criterion = nn.CrossEntropyLoss()\n",
    "        self.optimizer = signumSGD_worker_fc(self.model.parameters(), lr=lr, beta=beta)\n",
    "        self.batch = batch\n",
    "        \n",
    "    def train(self):\n",
    "        \n",
    "        x,y = self.batch\n",
    "        \n",
    "        self.model.train()\n",
    "        \n",
    "        logits = self.model.forward(x)\n",
    "            \n",
    "        loss = self.criterion(logits, y)\n",
    "        loss.backward()\n",
    "\n",
    "        signs = self.optimizer.step()\n",
    "        self.optimizer.zero_grad()\n",
    "        \n",
    "        return signs, float(loss)\n",
    "    \n",
    "    def update(self, signs):\n",
    "        self.optimizer.update(signs)"
   ]
  },
  {
   "cell_type": "code",
   "execution_count": 17,
   "metadata": {},
   "outputs": [],
   "source": [
    "def evaluating_workers_fc(learning_rate, beta, dataloader_train, dataloader_test, epochs=EPOCHS_MAX):\n",
    "    \n",
    "    # This is the server\n",
    "    \n",
    "    workers = []\n",
    "    \n",
    "    for it, batch in enumerate(dataloader_train):\n",
    "         workers.append(worker_signum_fc(learning_rate, beta, batch))\n",
    "            \n",
    "    M = len(workers)\n",
    "    \n",
    "    print(\"--> \" + str(M) + \" travailleurs\")\n",
    "            \n",
    "    final_model = FC()\n",
    "    criterion = nn.CrossEntropyLoss()\n",
    "    optimizer = signumSGD_worker_fc(final_model.parameters(), lr=learning_rate, beta=beta)\n",
    "    \n",
    "    losses = []\n",
    "    accs = []\n",
    "            \n",
    "    for ep in range(epochs*M):\n",
    "        \n",
    "        # Training\n",
    "        \n",
    "        full_signs = None\n",
    "        full_loss = 0\n",
    "        \n",
    "        for worker in workers:\n",
    "            \n",
    "            signs, loss = worker.train()\n",
    "            \n",
    "            if full_signs == None:\n",
    "                full_signs = signs\n",
    "            else:\n",
    "                for i in range(len(full_signs)):\n",
    "                    for j in range(len(full_signs[i])):\n",
    "                        full_signs[i][j] = torch.add(full_signs[i][j], signs[i][j])\n",
    "                        \n",
    "            full_loss += loss\n",
    "                \n",
    "        # Update\n",
    "        \n",
    "        for i in range(len(full_signs)):\n",
    "            for j in range(len(full_signs[i])):\n",
    "                full_signs[i][j] = torch.sign(full_signs[i][j])\n",
    "        \n",
    "        for worker in workers:\n",
    "            worker.update(full_signs)\n",
    "        \n",
    "        optimizer.update(full_signs)\n",
    "        \n",
    "        # Eval\n",
    "\n",
    "        if (ep+1)%M == 0:\n",
    "        \n",
    "            final_model.eval()\n",
    "            \n",
    "            with torch.no_grad():\n",
    "                \n",
    "                acc_run = 0\n",
    "                \n",
    "                for it, batch in enumerate(dataloader_test):\n",
    "                    x, y = batch\n",
    "                    curr_bs = x.shape[0]\n",
    "                    acc_run += accuracy(final_model(x), y) * curr_bs\n",
    "                    \n",
    "                acc = acc_run / len(dataloader_test.dataset) * 100\n",
    "                \n",
    "            print(\"Epoch {}/{} | Loss = {:.2f} & Acc = {:.1f}\".format(ep+1, epochs*M, full_loss, acc))\n",
    "            \n",
    "            losses.append(full_loss)\n",
    "            accs.append(acc)\n",
    "        \n",
    "    print(\"\")\n",
    "    \n",
    "    return losses, accs, final_model"
   ]
  },
  {
   "cell_type": "code",
   "execution_count": 18,
   "metadata": {},
   "outputs": [
    {
     "name": "stdout",
     "output_type": "stream",
     "text": [
      "--> 12 travailleurs\n",
      "Epoch 12/120 | Loss = 4.00 & Acc = 7.2\n",
      "Epoch 24/120 | Loss = 0.47 & Acc = 6.8\n",
      "Epoch 36/120 | Loss = 0.08 & Acc = 8.0\n",
      "Epoch 48/120 | Loss = 0.02 & Acc = 9.2\n",
      "Epoch 60/120 | Loss = 0.00 & Acc = 10.4\n",
      "Epoch 72/120 | Loss = 0.00 & Acc = 11.2\n",
      "Epoch 84/120 | Loss = 0.00 & Acc = 11.2\n",
      "Epoch 96/120 | Loss = 0.00 & Acc = 11.6\n",
      "Epoch 108/120 | Loss = 0.00 & Acc = 11.6\n",
      "Epoch 120/120 | Loss = 0.00 & Acc = 12.0\n",
      "\n"
     ]
    }
   ],
   "source": [
    "# Hyper-parameters\n",
    "lr = 0.0001\n",
    "beta = 0\n",
    "\n",
    "losses_workers_sign_resnet, accs_workers_sign_resnet, model_workers_sign_resnet = evaluating_workers_resnet(lr, beta, dataloader_train, dataloader_test, EPOCHS_MAX)"
   ]
  },
  {
   "cell_type": "code",
   "execution_count": 19,
   "metadata": {},
   "outputs": [
    {
     "name": "stdout",
     "output_type": "stream",
     "text": [
      "--> 12 travailleurs\n",
      "Epoch 12/120 | Loss = 4.76 & Acc = 8.0\n",
      "Epoch 24/120 | Loss = 0.82 & Acc = 9.2\n",
      "Epoch 36/120 | Loss = 0.21 & Acc = 8.0\n",
      "Epoch 48/120 | Loss = 0.06 & Acc = 7.2\n",
      "Epoch 60/120 | Loss = 0.02 & Acc = 5.6\n",
      "Epoch 72/120 | Loss = 0.01 & Acc = 5.6\n",
      "Epoch 84/120 | Loss = 0.00 & Acc = 5.6\n",
      "Epoch 96/120 | Loss = 0.00 & Acc = 4.8\n",
      "Epoch 108/120 | Loss = 0.00 & Acc = 4.4\n",
      "Epoch 120/120 | Loss = 0.00 & Acc = 4.0\n",
      "\n"
     ]
    }
   ],
   "source": [
    "# Hyper-parameters\n",
    "lr = 0.0001\n",
    "beta = 0.9\n",
    "\n",
    "losses_workers_signum_resnet, accs_workers_signum_resnet, model_workers_signum_resnet = evaluating_workers_resnet(lr, beta, dataloader_train, dataloader_test, EPOCHS_MAX)"
   ]
  },
  {
   "cell_type": "code",
   "execution_count": null,
   "metadata": {},
   "outputs": [
    {
     "name": "stdout",
     "output_type": "stream",
     "text": [
      "--> 12 travailleurs\n",
      "Epoch 12/120 | Loss = 21.35 & Acc = 29.6\n",
      "Epoch 24/120 | Loss = 18.43 & Acc = 42.8\n",
      "Epoch 36/120 | Loss = 11.78 & Acc = 50.8\n",
      "Epoch 48/120 | Loss = 11.43 & Acc = 59.2\n",
      "Epoch 60/120 | Loss = 14.94 & Acc = 52.4\n",
      "Epoch 72/120 | Loss = 8.96 & Acc = 60.4\n",
      "Epoch 84/120 | Loss = 7.31 & Acc = 75.6\n",
      "Epoch 96/120 | Loss = 6.96 & Acc = 74.8\n",
      "Epoch 108/120 | Loss = 9.59 & Acc = 74.0\n"
     ]
    }
   ],
   "source": [
    "# Hyper-parameters\n",
    "lr = 0.005\n",
    "beta = 0\n",
    "\n",
    "losses_workers_sign_fc, accs_workers_sign_fc, model_workers_sign_fc = evaluating_workers_fc(lr, beta, dataloader_train, dataloader_test, EPOCHS_MAX)"
   ]
  },
  {
   "cell_type": "code",
   "execution_count": 26,
   "metadata": {},
   "outputs": [
    {
     "name": "stdout",
     "output_type": "stream",
     "text": [
      "--> 12 travailleurs\n",
      "Epoch 12/120 | Loss = 13.60 & Acc = 54.8\n",
      "Epoch 24/120 | Loss = 2.06 & Acc = 84.4\n",
      "Epoch 36/120 | Loss = 1.08 & Acc = 86.4\n",
      "Epoch 48/120 | Loss = 0.82 & Acc = 85.6\n",
      "Epoch 60/120 | Loss = 4.36 & Acc = 85.2\n",
      "Epoch 72/120 | Loss = 1.52 & Acc = 83.2\n",
      "Epoch 84/120 | Loss = 0.93 & Acc = 86.0\n",
      "Epoch 96/120 | Loss = 2.24 & Acc = 85.6\n",
      "Epoch 108/120 | Loss = 0.58 & Acc = 86.0\n",
      "Epoch 120/120 | Loss = 2.29 & Acc = 84.4\n",
      "\n"
     ]
    }
   ],
   "source": [
    "# Hyper-parameters\n",
    "lr = 0.01\n",
    "beta = 0.9\n",
    "\n",
    "losses_workers_signum_fc, accs_workers_signum_fc, model_workers_signum_fc = evaluating_workers_fc(lr, beta, dataloader_train, dataloader_test, EPOCHS_MAX)"
   ]
  },
  {
   "cell_type": "markdown",
   "metadata": {
    "deepnote_cell_type": "text-cell-h3",
    "formattedRanges": [],
    "is_collapsed": false,
    "tags": []
   },
   "source": [
    "## Ploting"
   ]
  },
  {
   "cell_type": "code",
   "execution_count": 32,
   "metadata": {
    "deepnote_cell_height": 570,
    "deepnote_cell_type": "code",
    "tags": []
   },
   "outputs": [
    {
     "data": {
      "image/png": "[encoded data removed]",
      "text/plain": [
       "<Figure size 1440x576 with 2 Axes>"
      ]
     },
     "metadata": {
      "needs_background": "light"
     },
     "output_type": "display_data"
    }
   ],
   "source": [
    "x = range(1, EPOCHS_MAX+1)\n",
    "\n",
    "fig, axes = plt.subplots(nrows=1, ncols=2, figsize=(20, 8))\n",
    "\n",
    "axes[0].plot(x, losses_workers_sign_resnet, label = \"Workers Sign ResNet18\")\n",
    "axes[0].plot(x, losses_workers_signum_resnet, label = \"Workers Signum ResNet18\")\n",
    "axes[0].plot(x, losses_workers_sign_fc, label = \"Workers Sign 3_Layer_Net\")\n",
    "axes[0].plot(x, losses_workers_signum_fc, label = \"Workers Signum 3_Layer_Net\")\n",
    "\n",
    "axes[0].set_ylabel(\"Loss\")\n",
    "axes[0].set_xlabel(\"Epochs\")\n",
    "\n",
    "axes[0].legend()\n",
    "axes[0].grid()\n",
    "\n",
    "axes[1].plot(x, accs_workers_sign_resnet, label = \"Workers Sign ResNet18\")\n",
    "axes[1].plot(x, accs_workers_signum_resnet, label = \"Workers Signum ResNet18\")\n",
    "axes[1].plot(x, accs_workers_sign_fc, label = \"Workers Sign 3_Layer_Net\")\n",
    "axes[1].plot(x, accs_workers_signum_fc, label = \"Workers Signum 3_Layer_Net\")\n",
    "\n",
    "axes[1].set_ylabel(\"Accuracy (%)\")\n",
    "axes[1].set_xlabel(\"Epochs\")\n",
    "\n",
    "axes[1].legend()\n",
    "axes[1].grid()"
   ]
  }
 ],
 "metadata": {
  "deepnote": {},
  "deepnote_execution_queue": [
   {
    "cellId": "9184d072560b4ccbb7ca565ec0344946",
    "msgId": "e866afe1-0906-41fb-a30f-607533585166",
    "sessionId": "d1b51984-5fd9-4401-ac02-9d73fd877fa8"
   },
   {
    "cellId": "4f2386eb145d495ea46069a1755eed07",
    "msgId": "0eaaa0dc-7102-41a7-be2e-84df7b4d9f0e",
    "sessionId": "992f974e-9477-47cb-b8ae-149dab74bb1c"
   }
  ],
  "deepnote_notebook_id": "cecaf253-63ec-4e29-bd2d-d1d58fe5baea",
  "kernelspec": {
   "display_name": "Python 3 (ipykernel)",
   "language": "python",
   "name": "python3"
  },
  "language_info": {
   "codemirror_mode": {
    "name": "ipython",
    "version": 3
   },
   "file_extension": ".py",
   "mimetype": "text/x-python",
   "name": "python",
   "nbconvert_exporter": "python",
   "pygments_lexer": "ipython3",
   "version": "3.7.3"
  }
 },
 "nbformat": 4,
 "nbformat_minor": 2
}
