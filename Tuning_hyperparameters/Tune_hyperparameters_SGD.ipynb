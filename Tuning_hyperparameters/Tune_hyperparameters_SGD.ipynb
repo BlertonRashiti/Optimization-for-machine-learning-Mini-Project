{
  "nbformat": 4,
  "nbformat_minor": 0,
  "metadata": {
    "colab": {
      "name": "Tune_hyperparameters_SGD.ipynb",
      "provenance": [],
      "collapsed_sections": []
    },
    "kernelspec": {
      "name": "python3",
      "display_name": "Python 3"
    },
    "language_info": {
      "name": "python"
    }
  },
  "cells": [
    {
      "cell_type": "markdown",
      "source": [
        "Imports"
      ],
      "metadata": {
        "id": "oTe5ZFzowj3g"
      }
    },
    {
      "cell_type": "code",
      "execution_count": null,
      "metadata": {
        "id": "_hI9yjzUwcdw"
      },
      "outputs": [],
      "source": [
        "%reset\n",
        "\n",
        "import os\n",
        "import time\n",
        "\n",
        "import numpy as np\n",
        "import pandas as pd\n",
        "\n",
        "import torch\n",
        "\n",
        "import torch.nn as nn\n",
        "import torch.nn.functional as F\n",
        "from torch.utils.data import DataLoader\n",
        "from torch.utils.data.dataset import Subset\n",
        "\n",
        "from torchvision import datasets\n",
        "from torchvision import transforms\n",
        "from torch import tensor \n",
        "\n",
        "import matplotlib.pyplot as plt\n"
      ]
    },
    {
      "cell_type": "markdown",
      "source": [
        "# **Model settings**"
      ],
      "metadata": {
        "id": "y44oswspwonl"
      }
    },
    {
      "cell_type": "code",
      "source": [
        "# Hyperparameters\n",
        "RANDOM_SEED = 1\n",
        "LEARNING_RATE_list = [0.001,0.01, 0.1, 0.5, 1]\n",
        "MOMENTUM_list =[0.8,0.85,0.9,0.92,0.95]\n",
        "BATCH_SIZE = 125\n",
        "NUM_EPOCHS = 10\n",
        "\n",
        "# Architecture\n",
        "NUM_FEATURES = 28*28\n",
        "NUM_CLASSES = 10\n",
        "\n",
        "# Other\n",
        "GRAYSCALE = True"
      ],
      "metadata": {
        "id": "8QixE3XbwtIy"
      },
      "execution_count": 5,
      "outputs": []
    },
    {
      "cell_type": "markdown",
      "source": [
        "# MNIST Dataset"
      ],
      "metadata": {
        "id": "ydcV7gndw0hI"
      }
    },
    {
      "cell_type": "code",
      "source": [
        "# Note transforms.ToTensor() scales input images\n",
        "# to 0-1 range\n",
        "train_dataset = datasets.MNIST(root='data', \n",
        "                               train=True, \n",
        "                               transform=transforms.ToTensor(),\n",
        "                               download=True)\n",
        "\n",
        "test_dataset = datasets.MNIST(root='data', \n",
        "                              train=False, \n",
        "                              transform=transforms.ToTensor())\n",
        "\n",
        "#Training_set with the first 1500 images of MNIST training_set\n",
        "subset_indices1=list(range(0,1500))\n",
        "train_set=Subset(train_dataset,subset_indices1)\n",
        "\n",
        "#Validation_set with the first 250 images of MNIST test_set\n",
        "subset_indices2=list(range(0,250))\n",
        "validation_set = Subset(test_dataset,subset_indices2)\n",
        "\n",
        "#Test_set with the 251-499 images of MNIST test_set\n",
        "subset_indices3=list(range(250,500))\n",
        "test_set=Subset(test_dataset,subset_indices3)\n",
        "\n",
        "train_loader= DataLoader(dataset=train_set, \n",
        "                          batch_size=BATCH_SIZE, \n",
        "                          shuffle=True)\n",
        "\n",
        "validation_loader= DataLoader(dataset=validation_set, \n",
        "                         batch_size=BATCH_SIZE, \n",
        "                         shuffle=False)\n",
        "\n",
        "test_loader= DataLoader(dataset=test_set, \n",
        "                         batch_size=BATCH_SIZE, \n",
        "                         shuffle=False)"
      ],
      "metadata": {
        "id": "ArN9CYfLwz_n"
      },
      "execution_count": null,
      "outputs": []
    },
    {
      "cell_type": "markdown",
      "source": [
        "#Model"
      ],
      "metadata": {
        "id": "jZlzmuuVxEHp"
      }
    },
    {
      "cell_type": "code",
      "source": [
        "def conv3x3(in_planes, out_planes, stride=1):\n",
        "    \"\"\"3x3 convolution with padding\"\"\"\n",
        "    return nn.Conv2d(in_planes, out_planes, kernel_size=3, stride=stride,\n",
        "                     padding=1, bias=False)\n",
        "\n",
        "\n",
        "class BasicBlock(nn.Module):\n",
        "    expansion = 1\n",
        "\n",
        "    def __init__(self, inplanes, planes, stride=1, downsample=None):\n",
        "        super(BasicBlock, self).__init__()\n",
        "        self.conv1 = conv3x3(inplanes, planes, stride)\n",
        "        self.bn1 = nn.BatchNorm2d(planes)\n",
        "        self.relu = nn.ReLU(inplace=True)\n",
        "        self.conv2 = conv3x3(planes, planes)\n",
        "        self.bn2 = nn.BatchNorm2d(planes)\n",
        "        self.downsample = downsample\n",
        "        self.stride = stride\n",
        "\n",
        "    def forward(self, x):\n",
        "        residual = x\n",
        "\n",
        "        out = self.conv1(x)\n",
        "        out = self.bn1(out)\n",
        "        out = self.relu(out)\n",
        "\n",
        "        out = self.conv2(out)\n",
        "        out = self.bn2(out)\n",
        "\n",
        "        if self.downsample is not None:\n",
        "            residual = self.downsample(x)\n",
        "\n",
        "        out += residual\n",
        "        out = self.relu(out)\n",
        "\n",
        "        return out\n",
        "\n",
        "\n",
        "\n",
        "\n",
        "class ResNet(nn.Module):\n",
        "\n",
        "    def __init__(self, block, layers, num_classes, grayscale):\n",
        "        self.inplanes = 64\n",
        "        if grayscale:\n",
        "            in_dim = 1\n",
        "        else:\n",
        "            in_dim = 3\n",
        "        super(ResNet, self).__init__()\n",
        "        self.conv1 = nn.Conv2d(in_dim, 64, kernel_size=7, stride=2, padding=3,\n",
        "                               bias=False)\n",
        "        self.bn1 = nn.BatchNorm2d(64)\n",
        "        self.relu = nn.ReLU(inplace=True)\n",
        "        self.maxpool = nn.MaxPool2d(kernel_size=3, stride=2, padding=1)\n",
        "        self.layer1 = self._make_layer(block, 64, layers[0])\n",
        "        self.layer2 = self._make_layer(block, 128, layers[1], stride=2)\n",
        "        self.layer3 = self._make_layer(block, 256, layers[2], stride=2)\n",
        "        self.layer4 = self._make_layer(block, 512, layers[3], stride=2)\n",
        "        self.avgpool = nn.AvgPool2d(7, stride=1)\n",
        "        self.fc = nn.Linear(512 * block.expansion, num_classes)\n",
        "\n",
        "        for m in self.modules():\n",
        "            if isinstance(m, nn.Conv2d):\n",
        "                n = m.kernel_size[0] * m.kernel_size[1] * m.out_channels\n",
        "                m.weight.data.normal_(0, (2. / n)**.5)\n",
        "            elif isinstance(m, nn.BatchNorm2d):\n",
        "                m.weight.data.fill_(1)\n",
        "                m.bias.data.zero_()\n",
        "\n",
        "    def _make_layer(self, block, planes, blocks, stride=1):\n",
        "        downsample = None\n",
        "        if stride != 1 or self.inplanes != planes * block.expansion:\n",
        "            downsample = nn.Sequential(\n",
        "                nn.Conv2d(self.inplanes, planes * block.expansion,\n",
        "                          kernel_size=1, stride=stride, bias=False),\n",
        "                nn.BatchNorm2d(planes * block.expansion),\n",
        "            )\n",
        "\n",
        "        layers = []\n",
        "        layers.append(block(self.inplanes, planes, stride, downsample))\n",
        "        self.inplanes = planes * block.expansion\n",
        "        for i in range(1, blocks):\n",
        "            layers.append(block(self.inplanes, planes))\n",
        "\n",
        "        return nn.Sequential(*layers)\n",
        "\n",
        "    def forward(self, x):\n",
        "        x = self.conv1(x)\n",
        "        x = self.bn1(x)\n",
        "        x = self.relu(x)\n",
        "        x = self.maxpool(x)\n",
        "\n",
        "        x = self.layer1(x)\n",
        "        x = self.layer2(x)\n",
        "        x = self.layer3(x)\n",
        "        x = self.layer4(x)\n",
        "        # because MNIST is already 1x1 here:\n",
        "        # disable avg pooling\n",
        "        #x = self.avgpool(x)\n",
        "        \n",
        "        x = x.view(x.size(0), -1)\n",
        "        logits = self.fc(x)\n",
        "        probas = F.softmax(logits, dim=1)\n",
        "        return logits, probas\n",
        "\n",
        "\n",
        "\n",
        "def resnet18(num_classes):\n",
        "    \"\"\"Constructs a ResNet-18 model.\"\"\"\n",
        "    model = ResNet(block=BasicBlock, \n",
        "                   layers=[2, 2, 2, 2],\n",
        "                   num_classes=NUM_CLASSES,\n",
        "                   grayscale=GRAYSCALE)\n",
        "    return model"
      ],
      "metadata": {
        "id": "NVuSXappxbca"
      },
      "execution_count": 7,
      "outputs": []
    },
    {
      "cell_type": "code",
      "source": [
        "#function to compute accuracy\n",
        "def compute_accuracy(model, data_loader):\n",
        "  \n",
        "    correct_pred, num_examples = 0, 0\n",
        "    \n",
        "    for i, (features, targets) in enumerate(data_loader):\n",
        "            \n",
        "        logits, probas = model(features)\n",
        "        _, predicted_labels = torch.max(probas, 1)\n",
        "        num_examples += targets.size(0)\n",
        "        correct_pred += (predicted_labels == targets).sum()\n",
        "    return correct_pred.float()/num_examples * 100"
      ],
      "metadata": {
        "id": "6ROC3wf0xoBA"
      },
      "execution_count": 9,
      "outputs": []
    },
    {
      "cell_type": "markdown",
      "source": [
        "#Training and Validation"
      ],
      "metadata": {
        "id": "PvzY7y_6x2I6"
      }
    },
    {
      "cell_type": "code",
      "source": [
        "torch.manual_seed(RANDOM_SEED)"
      ],
      "metadata": {
        "id": "kEOjcrsuyqh_"
      },
      "execution_count": null,
      "outputs": []
    },
    {
      "cell_type": "markdown",
      "source": [
        "#SGD"
      ],
      "metadata": {
        "id": "YplZMJSpx5MZ"
      }
    },
    {
      "cell_type": "code",
      "source": [
        "model_SGD = resnet18(NUM_CLASSES)\n",
        "accuracy_score_SGD=[]\n",
        "hyperparameters_SGD=[]\n",
        "\n",
        "for l in range(len(LEARNING_RATE_list)):\n",
        "\n",
        "    del model_SGD\n",
        "    model_SGD = resnet18(NUM_CLASSES)\n",
        "    optimizer_SGD= torch.optim.SGD(model_SGD.parameters(), lr=LEARNING_RATE_list[l]) \n",
        "\n",
        "    start_time = time.time()\n",
        "    for epoch in range(NUM_EPOCHS):\n",
        "\n",
        "        model_SGD.train()\n",
        "        for batch_idx, (features, targets) in enumerate(train_loader):\n",
        "\n",
        "        \n",
        "            \n",
        "            ### FORWARD AND BACK PROP\n",
        "            logits, probas = model_SGD(features)\n",
        "            cost = F.cross_entropy(logits, targets)\n",
        "            optimizer_SGD.zero_grad()\n",
        "          \n",
        "            cost.backward()\n",
        "          \n",
        "            ### UPDATE MODEL PARAMETERS\n",
        "            optimizer_SGD.step()\n",
        "          \n",
        "            ### LOGGING\n",
        "            if not batch_idx % 6:\n",
        "                print ('Epoch: %03d/%03d | Batch %04d/%04d | Cost: %.4f' \n",
        "                    %(epoch+1, NUM_EPOCHS, batch_idx, \n",
        "                      len(train_loader), cost))\n",
        "            \n",
        "        model_SGD.eval()\n",
        "        with torch.set_grad_enabled(False): # save memory during inference\n",
        "            print('Epoch: %03d/%03d | Train: %.3f%%' % (\n",
        "                  epoch+1, NUM_EPOCHS, \n",
        "                  compute_accuracy(model_SGD, train_loader)))\n",
        "        \n",
        "        print('Time elapsed: %.2f min' % ((time.time() - start_time)/60))\n",
        "        \n",
        "    print('Total Training Time: %.2f min' % ((time.time() - start_time)/60))\n",
        "\n",
        "    with torch.set_grad_enabled(False): # save memory during inference\n",
        "        accuracy_score_SGD.append(compute_accuracy(model_SGD, validation_loader))\n",
        "        hyperparameters_SGD.append(LEARNING_RATE_list[l])\n",
        "        print(accuracy_score_SGD)\n",
        "        print(hyperparameters_SGD)\n",
        "\n",
        "list_acc_SGD=torch.FloatTensor(accuracy_score_SGD).tolist()"
      ],
      "metadata": {
        "id": "aKLbEMBAx4uh"
      },
      "execution_count": null,
      "outputs": []
    },
    {
      "cell_type": "markdown",
      "source": [
        "#SGD with momemtum"
      ],
      "metadata": {
        "id": "CMrroVRp0Dvi"
      }
    },
    {
      "cell_type": "code",
      "source": [
        "model_SGD_momentum = resnet18(NUM_CLASSES)\n",
        "accuracy_score_SGD_momentum=[]\n",
        "hyperparameters_SGD_momentum=[]\n",
        "\n",
        "for l in range(len(LEARNING_RATE_list)):\n",
        "  for mom in range(len(MOMENTUM_list)):\n",
        "\n",
        "    del model_SGD_momentum\n",
        "    model_SGD_momentum = resnet18(NUM_CLASSES)\n",
        "    optimizer_SGD_momentum = torch.optim.SGD(model_SGD_momentum.parameters(), lr=LEARNING_RATE_list[l], momentum=MOMENTUM_list[mom]) \n",
        "\n",
        "    start_time = time.time()\n",
        "    for epoch in range(NUM_EPOCHS):\n",
        "\n",
        "        model_SGD_momentum.train()\n",
        "        for batch_idx, (features, targets) in enumerate(train_loader):\n",
        "            \n",
        "            ### FORWARD AND BACK PROP\n",
        "            logits, probas = model_SGD_momentum(features)\n",
        "            cost = F.cross_entropy(logits, targets)\n",
        "            optimizer_SGD_momentum.zero_grad()\n",
        "          \n",
        "            cost.backward()\n",
        "          \n",
        "            ### UPDATE MODEL PARAMETERS\n",
        "            optimizer_SGD_momentum.step()\n",
        "          \n",
        "            ### LOGGING\n",
        "            if not batch_idx % 6:\n",
        "                print ('Epoch: %03d/%03d | Batch %04d/%04d | Cost: %.4f' \n",
        "                    %(epoch+1, NUM_EPOCHS, batch_idx, \n",
        "                      len(train_loader), cost))\n",
        "            \n",
        "        model_SGD_momentum.eval()\n",
        "        with torch.set_grad_enabled(False): # save memory during inference\n",
        "            print('Epoch: %03d/%03d | Train: %.3f%%' % (\n",
        "                  epoch+1, NUM_EPOCHS, \n",
        "                  compute_accuracy(model_SGD_momentum, train_loader)))\n",
        "        \n",
        "        print('Time elapsed: %.2f min' % ((time.time() - start_time)/60))\n",
        "        \n",
        "    print('Total Training Time: %.2f min' % ((time.time() - start_time)/60))\n",
        "\n",
        "    with torch.set_grad_enabled(False): # save memory during inference\n",
        "        accuracy_score_SGD_momentum.append(compute_accuracy(model_SGD_momentum, validation_loader))\n",
        "        hyperparameters_SGD_momentum.append([LEARNING_RATE_list[l],MOMENTUM_list[mom]])\n",
        "        print(accuracy_score_SGD_momentum)\n",
        "        print(hyperparameters_SGD_momentum)\n",
        "\n",
        "list_acc_SGD_momentum=torch.FloatTensor(accuracy_score_SGD_momentum).tolist()                "
      ],
      "metadata": {
        "id": "VKTTqps50Tn4"
      },
      "execution_count": null,
      "outputs": []
    },
    {
      "cell_type": "markdown",
      "source": [
        "#Plots"
      ],
      "metadata": {
        "id": "kpfOAogV21BK"
      }
    },
    {
      "cell_type": "markdown",
      "source": [
        "SGD"
      ],
      "metadata": {
        "id": "E2vnLwq15DU2"
      }
    },
    {
      "cell_type": "code",
      "source": [
        "plt.plot(LEARNING_RATE_list, list_acc_SGD, label='SGD')\n",
        "plt.ylabel('Accuracy (%)')\n",
        "plt.xlabel('Learning rate $\\gamma$')\n",
        "plt.legend(loc='lower center')\n",
        "plt.grid()\n",
        "plt.show()"
      ],
      "metadata": {
        "id": "M0ECg1Mr20mx"
      },
      "execution_count": null,
      "outputs": []
    },
    {
      "cell_type": "markdown",
      "source": [
        "SGD with momentum"
      ],
      "metadata": {
        "id": "MAlxFhz15FYa"
      }
    },
    {
      "cell_type": "code",
      "source": [
        "plt.plot(MOMENTUM_list, list_acc_SGD_momentum[0:5], label=r'$\\gamma=0.001$ ')\n",
        "plt.plot(MOMENTUM_list, list_acc_SGD_momentum[5:10], label= r'$\\gamma=0.01$')\n",
        "plt.plot(MOMENTUM_list, list_acc_SGD_momentum[10:15], label=r'$\\gamma = 0.1$')\n",
        "plt.plot(MOMENTUM_list, list_acc_SGD_momentum[15:20], label=r'$\\gamma = 0.5$')\n",
        "plt.plot(MOMENTUM_list, list_acc_SGD_momentum[20:25], label=r'$\\gamma = 1$')\n",
        "plt.ylabel('Accuracy (%)')\n",
        "plt.xlabel(r'Momentum $ \\beta $')\n",
        "plt.legend(loc='center')\n",
        "plt.grid()\n",
        "plt.show()"
      ],
      "metadata": {
        "id": "YtTQTeYZ3Hr3"
      },
      "execution_count": null,
      "outputs": []
    }
  ]
}